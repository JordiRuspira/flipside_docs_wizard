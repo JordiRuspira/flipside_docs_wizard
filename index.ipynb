{
 "cells": [
  {
   "cell_type": "code",
   "execution_count": null,
   "metadata": {},
   "outputs": [],
   "source": [
    "from llama_index import (\n",
    "    VectorStoreIndex,\n",
    "    SimpleDirectoryReader,\n",
    "    StorageContext,\n",
    "    download_loader,\n",
    "    GPTVectorStoreIndex,\n",
    ")\n",
    "from llama_hub.github_repo import GithubRepositoryReader, GithubClient\n",
    "import os\n",
    "import nest_asyncio\n",
    "\n",
    "nest_asyncio.apply()"
   ]
  },
  {
   "cell_type": "code",
   "execution_count": null,
   "metadata": {},
   "outputs": [],
   "source": [
    "# Fetch GitHub Reader\n",
    "download_loader(\"GithubRepositoryReader\")\n",
    "github_client = GithubClient(os.environ[\"GH_TOKEN\"])\n",
    "\n",
    "# Config Github Reader\n",
    "loader = GithubRepositoryReader(\n",
    "    github_client,\n",
    "    owner=\"FlipsideCrypto\",\n",
    "    repo=\"gitbook\",\n",
    "    filter_directories=([\"docs\"], GithubRepositoryReader.FilterType.INCLUDE),\n",
    "    filter_file_extensions=([\".md\"], GithubRepositoryReader.FilterType.INCLUDE),\n",
    "    verbose=True,\n",
    "    concurrent_requests=10,\n",
    ")\n",
    "\n",
    "# Load docs from Github\n",
    "docs = loader.load_data(branch=\"master\")\n",
    "\n",
    "# Construct a simple vector index\n",
    "index = GPTVectorStoreIndex.from_documents(docs)\n",
    "\n",
    "# Saving Index for future use\n",
    "index.storage_context.persist()"
   ]
  },
  {
   "cell_type": "code",
   "execution_count": null,
   "metadata": {},
   "outputs": [],
   "source": [
    "# Querying the index\n",
    "query_engine = index.as_query_engine()\n",
    "response = query_engine.query(\"what is a Dune wizard?\")\n",
    "print(response)"
   ]
  }
 ],
 "metadata": {
  "kernelspec": {
   "display_name": "Python 3",
   "language": "python",
   "name": "python3"
  },
  "language_info": {
   "codemirror_mode": {
    "name": "ipython",
    "version": 3
   },
   "file_extension": ".py",
   "mimetype": "text/x-python",
   "name": "python",
   "nbconvert_exporter": "python",
   "pygments_lexer": "ipython3",
   "version": "3.10.12"
  },
  "orig_nbformat": 4
 },
 "nbformat": 4,
 "nbformat_minor": 2
}
