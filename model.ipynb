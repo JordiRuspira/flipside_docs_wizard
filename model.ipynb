{
 "cells": [
  {
   "cell_type": "code",
   "execution_count": null,
   "metadata": {},
   "outputs": [],
   "source": [
    "from llama_index import VectorStoreIndex, SimpleDirectoryReader, StorageContext, load_index_from_storage, download_loader, GPTVectorStoreIndex\n",
    "from llama_hub.github_repo import GithubRepositoryReader, GithubClient\n",
    "import os\n",
    "import openai\n",
    "import pickle\n",
    "import nest_asyncio\n",
    "nest_asyncio.apply()\n"
   ]
  },
  {
   "cell_type": "markdown",
   "metadata": {},
   "source": [
    "## Raw .txt Files"
   ]
  },
  {
   "cell_type": "code",
   "execution_count": null,
   "metadata": {},
   "outputs": [],
   "source": [
    "# Loading from a directory\n",
    "documents = SimpleDirectoryReader('data').load_data()\n",
    "\n",
    "# Construct a simple vector index\n",
    "index = VectorStoreIndex.from_documents(documents)\n",
    "\n",
    "# Saving Index for future use\n",
    "index.storage_context.persist()\n",
    "\n",
    "# Loading Index from local storage\n",
    "storage_context = StorageContext.from_defaults(persist_dir=\"./storage\")\n",
    "index = load_index_from_storage(storage_context)\n"
   ]
  },
  {
   "cell_type": "code",
   "execution_count": null,
   "metadata": {},
   "outputs": [],
   "source": [
    "# Querying the index\n",
    "query_engine = index.as_query_engine()\n",
    "response = query_engine.query(\"What blockchains does Dune support?\")\n",
    "print(response)\n"
   ]
  },
  {
   "cell_type": "markdown",
   "metadata": {},
   "source": [
    "## GitHub Repo"
   ]
  },
  {
   "cell_type": "code",
   "execution_count": null,
   "metadata": {},
   "outputs": [],
   "source": [
    "download_loader(\"GithubRepositoryReader\")\n",
    "github_client = GithubClient(os.environ['GH_TOKEN'])\n"
   ]
  },
  {
   "cell_type": "code",
   "execution_count": null,
   "metadata": {},
   "outputs": [],
   "source": [
    "loader = GithubRepositoryReader(\n",
    "    github_client,\n",
    "    owner=\"duneanalytics\",\n",
    "    repo=\"docs\",\n",
    "    filter_directories=([\"docs\"], GithubRepositoryReader.FilterType.INCLUDE),\n",
    "    filter_file_extensions=(\n",
    "        [\".md\"], GithubRepositoryReader.FilterType.INCLUDE),\n",
    "    verbose=True,\n",
    "    concurrent_requests=10,\n",
    ")\n",
    "\n",
    "docs = loader.load_data(branch=\"master\")\n",
    "\n",
    "with open(\"dune_docs.pkl\", \"wb\") as f:\n",
    "    pickle.dump(docs, f)\n"
   ]
  },
  {
   "cell_type": "code",
   "execution_count": null,
   "metadata": {},
   "outputs": [],
   "source": [
    "# If already exists\n",
    "# if os.path.exists(\"docs.pkl\"):\n",
    "#    with open(\"docs.pkl\", \"rb\") as f:\n",
    "#        docs = pickle.load(f)\n"
   ]
  },
  {
   "cell_type": "code",
   "execution_count": null,
   "metadata": {},
   "outputs": [],
   "source": [
    "index = GPTVectorStoreIndex.from_documents(docs)\n"
   ]
  },
  {
   "cell_type": "code",
   "execution_count": null,
   "metadata": {},
   "outputs": [],
   "source": [
    "# Querying the index\n",
    "query_engine = index.as_query_engine()\n",
    "response = query_engine.query(\"what is a Dune wizard?\")\n",
    "print(response)\n"
   ]
  }
 ],
 "metadata": {
  "kernelspec": {
   "display_name": "Python 3",
   "language": "python",
   "name": "python3"
  },
  "language_info": {
   "codemirror_mode": {
    "name": "ipython",
    "version": 3
   },
   "file_extension": ".py",
   "mimetype": "text/x-python",
   "name": "python",
   "nbconvert_exporter": "python",
   "pygments_lexer": "ipython3",
   "version": "3.10.12"
  },
  "orig_nbformat": 4
 },
 "nbformat": 4,
 "nbformat_minor": 2
}
